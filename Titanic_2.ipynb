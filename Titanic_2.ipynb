{
 "cells": [
  {
   "cell_type": "markdown",
   "id": "81c7222b",
   "metadata": {},
   "source": [
    "# Chargement et fonctions"
   ]
  },
  {
   "cell_type": "code",
   "execution_count": 1,
   "id": "77a3de3b",
   "metadata": {},
   "outputs": [],
   "source": [
    "import numpy as np\n",
    "import pandas as pd\n",
    "\n",
    "import matplotlib.pyplot as plt\n",
    "%matplotlib inline\n",
    "\n",
    "from sklearn.model_selection import train_test_split, cross_validate, cross_val_score\n",
    "from sklearn.preprocessing import MinMaxScaler, StandardScaler\n",
    "from sklearn.metrics import mean_absolute_error, mean_squared_error, mean_absolute_error, r2_score"
   ]
  },
  {
   "cell_type": "code",
   "execution_count": 2,
   "id": "be139251",
   "metadata": {},
   "outputs": [
    {
     "data": {
      "text/html": [
       "<div>\n",
       "<style scoped>\n",
       "    .dataframe tbody tr th:only-of-type {\n",
       "        vertical-align: middle;\n",
       "    }\n",
       "\n",
       "    .dataframe tbody tr th {\n",
       "        vertical-align: top;\n",
       "    }\n",
       "\n",
       "    .dataframe thead th {\n",
       "        text-align: right;\n",
       "    }\n",
       "</style>\n",
       "<table border=\"1\" class=\"dataframe\">\n",
       "  <thead>\n",
       "    <tr style=\"text-align: right;\">\n",
       "      <th></th>\n",
       "      <th>Survived</th>\n",
       "      <th>Pclass</th>\n",
       "      <th>Sex</th>\n",
       "      <th>Age</th>\n",
       "      <th>SibSp</th>\n",
       "      <th>Parch</th>\n",
       "      <th>Fare</th>\n",
       "      <th>Cabin_</th>\n",
       "      <th>Cabin_A</th>\n",
       "      <th>Cabin_B</th>\n",
       "      <th>Cabin_C</th>\n",
       "      <th>Cabin_D</th>\n",
       "      <th>Cabin_E</th>\n",
       "      <th>Cabin_F</th>\n",
       "      <th>Cabin_G</th>\n",
       "      <th>Cabin_T</th>\n",
       "      <th>Embarked_</th>\n",
       "      <th>Embarked_C</th>\n",
       "      <th>Embarked_Q</th>\n",
       "      <th>Embarked_S</th>\n",
       "    </tr>\n",
       "    <tr>\n",
       "      <th>index</th>\n",
       "      <th></th>\n",
       "      <th></th>\n",
       "      <th></th>\n",
       "      <th></th>\n",
       "      <th></th>\n",
       "      <th></th>\n",
       "      <th></th>\n",
       "      <th></th>\n",
       "      <th></th>\n",
       "      <th></th>\n",
       "      <th></th>\n",
       "      <th></th>\n",
       "      <th></th>\n",
       "      <th></th>\n",
       "      <th></th>\n",
       "      <th></th>\n",
       "      <th></th>\n",
       "      <th></th>\n",
       "      <th></th>\n",
       "      <th></th>\n",
       "    </tr>\n",
       "  </thead>\n",
       "  <tbody>\n",
       "    <tr>\n",
       "      <th>0</th>\n",
       "      <td>0</td>\n",
       "      <td>3</td>\n",
       "      <td>1</td>\n",
       "      <td>22.0</td>\n",
       "      <td>1</td>\n",
       "      <td>0</td>\n",
       "      <td>7.2500</td>\n",
       "      <td>1</td>\n",
       "      <td>0</td>\n",
       "      <td>0</td>\n",
       "      <td>0</td>\n",
       "      <td>0</td>\n",
       "      <td>0</td>\n",
       "      <td>0</td>\n",
       "      <td>0</td>\n",
       "      <td>0</td>\n",
       "      <td>0</td>\n",
       "      <td>0</td>\n",
       "      <td>0</td>\n",
       "      <td>1</td>\n",
       "    </tr>\n",
       "    <tr>\n",
       "      <th>1</th>\n",
       "      <td>1</td>\n",
       "      <td>1</td>\n",
       "      <td>0</td>\n",
       "      <td>38.0</td>\n",
       "      <td>1</td>\n",
       "      <td>0</td>\n",
       "      <td>71.2833</td>\n",
       "      <td>0</td>\n",
       "      <td>0</td>\n",
       "      <td>0</td>\n",
       "      <td>1</td>\n",
       "      <td>0</td>\n",
       "      <td>0</td>\n",
       "      <td>0</td>\n",
       "      <td>0</td>\n",
       "      <td>0</td>\n",
       "      <td>0</td>\n",
       "      <td>1</td>\n",
       "      <td>0</td>\n",
       "      <td>0</td>\n",
       "    </tr>\n",
       "    <tr>\n",
       "      <th>2</th>\n",
       "      <td>1</td>\n",
       "      <td>3</td>\n",
       "      <td>0</td>\n",
       "      <td>26.0</td>\n",
       "      <td>0</td>\n",
       "      <td>0</td>\n",
       "      <td>7.9250</td>\n",
       "      <td>1</td>\n",
       "      <td>0</td>\n",
       "      <td>0</td>\n",
       "      <td>0</td>\n",
       "      <td>0</td>\n",
       "      <td>0</td>\n",
       "      <td>0</td>\n",
       "      <td>0</td>\n",
       "      <td>0</td>\n",
       "      <td>0</td>\n",
       "      <td>0</td>\n",
       "      <td>0</td>\n",
       "      <td>1</td>\n",
       "    </tr>\n",
       "    <tr>\n",
       "      <th>3</th>\n",
       "      <td>1</td>\n",
       "      <td>1</td>\n",
       "      <td>0</td>\n",
       "      <td>35.0</td>\n",
       "      <td>1</td>\n",
       "      <td>0</td>\n",
       "      <td>53.1000</td>\n",
       "      <td>0</td>\n",
       "      <td>0</td>\n",
       "      <td>0</td>\n",
       "      <td>1</td>\n",
       "      <td>0</td>\n",
       "      <td>0</td>\n",
       "      <td>0</td>\n",
       "      <td>0</td>\n",
       "      <td>0</td>\n",
       "      <td>0</td>\n",
       "      <td>0</td>\n",
       "      <td>0</td>\n",
       "      <td>1</td>\n",
       "    </tr>\n",
       "    <tr>\n",
       "      <th>4</th>\n",
       "      <td>0</td>\n",
       "      <td>3</td>\n",
       "      <td>1</td>\n",
       "      <td>35.0</td>\n",
       "      <td>0</td>\n",
       "      <td>0</td>\n",
       "      <td>8.0500</td>\n",
       "      <td>1</td>\n",
       "      <td>0</td>\n",
       "      <td>0</td>\n",
       "      <td>0</td>\n",
       "      <td>0</td>\n",
       "      <td>0</td>\n",
       "      <td>0</td>\n",
       "      <td>0</td>\n",
       "      <td>0</td>\n",
       "      <td>0</td>\n",
       "      <td>0</td>\n",
       "      <td>0</td>\n",
       "      <td>1</td>\n",
       "    </tr>\n",
       "  </tbody>\n",
       "</table>\n",
       "</div>"
      ],
      "text/plain": [
       "       Survived  Pclass  Sex   Age  SibSp  Parch     Fare  Cabin_  Cabin_A  \\\n",
       "index                                                                        \n",
       "0             0       3    1  22.0      1      0   7.2500       1        0   \n",
       "1             1       1    0  38.0      1      0  71.2833       0        0   \n",
       "2             1       3    0  26.0      0      0   7.9250       1        0   \n",
       "3             1       1    0  35.0      1      0  53.1000       0        0   \n",
       "4             0       3    1  35.0      0      0   8.0500       1        0   \n",
       "\n",
       "       Cabin_B  Cabin_C  Cabin_D  Cabin_E  Cabin_F  Cabin_G  Cabin_T  \\\n",
       "index                                                                  \n",
       "0            0        0        0        0        0        0        0   \n",
       "1            0        1        0        0        0        0        0   \n",
       "2            0        0        0        0        0        0        0   \n",
       "3            0        1        0        0        0        0        0   \n",
       "4            0        0        0        0        0        0        0   \n",
       "\n",
       "       Embarked_  Embarked_C  Embarked_Q  Embarked_S  \n",
       "index                                                 \n",
       "0              0           0           0           1  \n",
       "1              0           1           0           0  \n",
       "2              0           0           0           1  \n",
       "3              0           0           0           1  \n",
       "4              0           0           0           1  "
      ]
     },
     "execution_count": 2,
     "metadata": {},
     "output_type": "execute_result"
    }
   ],
   "source": [
    "df_train = pd.read_csv('train_2.csv', index_col='index')\n",
    "df_test = pd.read_csv('test_2.csv', index_col='index')\n",
    "df_train.head()"
   ]
  },
  {
   "cell_type": "code",
   "execution_count": 3,
   "id": "062f0465",
   "metadata": {},
   "outputs": [
    {
     "data": {
      "text/html": [
       "<div>\n",
       "<style scoped>\n",
       "    .dataframe tbody tr th:only-of-type {\n",
       "        vertical-align: middle;\n",
       "    }\n",
       "\n",
       "    .dataframe tbody tr th {\n",
       "        vertical-align: top;\n",
       "    }\n",
       "\n",
       "    .dataframe thead th {\n",
       "        text-align: right;\n",
       "    }\n",
       "</style>\n",
       "<table border=\"1\" class=\"dataframe\">\n",
       "  <thead>\n",
       "    <tr style=\"text-align: right;\">\n",
       "      <th></th>\n",
       "      <th>Pclass</th>\n",
       "      <th>Sex</th>\n",
       "      <th>Age</th>\n",
       "      <th>SibSp</th>\n",
       "      <th>Parch</th>\n",
       "      <th>Fare</th>\n",
       "      <th>Cabin_</th>\n",
       "      <th>Cabin_A</th>\n",
       "      <th>Cabin_B</th>\n",
       "      <th>Cabin_C</th>\n",
       "      <th>Cabin_D</th>\n",
       "      <th>Cabin_E</th>\n",
       "      <th>Cabin_F</th>\n",
       "      <th>Cabin_G</th>\n",
       "      <th>Embarked_C</th>\n",
       "      <th>Embarked_Q</th>\n",
       "      <th>Embarked_S</th>\n",
       "      <th>Cabin_T</th>\n",
       "      <th>Embarked_</th>\n",
       "    </tr>\n",
       "    <tr>\n",
       "      <th>index</th>\n",
       "      <th></th>\n",
       "      <th></th>\n",
       "      <th></th>\n",
       "      <th></th>\n",
       "      <th></th>\n",
       "      <th></th>\n",
       "      <th></th>\n",
       "      <th></th>\n",
       "      <th></th>\n",
       "      <th></th>\n",
       "      <th></th>\n",
       "      <th></th>\n",
       "      <th></th>\n",
       "      <th></th>\n",
       "      <th></th>\n",
       "      <th></th>\n",
       "      <th></th>\n",
       "      <th></th>\n",
       "      <th></th>\n",
       "    </tr>\n",
       "  </thead>\n",
       "  <tbody>\n",
       "    <tr>\n",
       "      <th>0</th>\n",
       "      <td>3</td>\n",
       "      <td>1</td>\n",
       "      <td>34.5</td>\n",
       "      <td>0</td>\n",
       "      <td>0</td>\n",
       "      <td>7.8292</td>\n",
       "      <td>1</td>\n",
       "      <td>0</td>\n",
       "      <td>0</td>\n",
       "      <td>0</td>\n",
       "      <td>0</td>\n",
       "      <td>0</td>\n",
       "      <td>0</td>\n",
       "      <td>0</td>\n",
       "      <td>0</td>\n",
       "      <td>1</td>\n",
       "      <td>0</td>\n",
       "      <td>0</td>\n",
       "      <td>0</td>\n",
       "    </tr>\n",
       "    <tr>\n",
       "      <th>1</th>\n",
       "      <td>3</td>\n",
       "      <td>0</td>\n",
       "      <td>47.0</td>\n",
       "      <td>1</td>\n",
       "      <td>0</td>\n",
       "      <td>7.0000</td>\n",
       "      <td>1</td>\n",
       "      <td>0</td>\n",
       "      <td>0</td>\n",
       "      <td>0</td>\n",
       "      <td>0</td>\n",
       "      <td>0</td>\n",
       "      <td>0</td>\n",
       "      <td>0</td>\n",
       "      <td>0</td>\n",
       "      <td>0</td>\n",
       "      <td>1</td>\n",
       "      <td>0</td>\n",
       "      <td>0</td>\n",
       "    </tr>\n",
       "    <tr>\n",
       "      <th>2</th>\n",
       "      <td>2</td>\n",
       "      <td>1</td>\n",
       "      <td>62.0</td>\n",
       "      <td>0</td>\n",
       "      <td>0</td>\n",
       "      <td>9.6875</td>\n",
       "      <td>1</td>\n",
       "      <td>0</td>\n",
       "      <td>0</td>\n",
       "      <td>0</td>\n",
       "      <td>0</td>\n",
       "      <td>0</td>\n",
       "      <td>0</td>\n",
       "      <td>0</td>\n",
       "      <td>0</td>\n",
       "      <td>1</td>\n",
       "      <td>0</td>\n",
       "      <td>0</td>\n",
       "      <td>0</td>\n",
       "    </tr>\n",
       "    <tr>\n",
       "      <th>3</th>\n",
       "      <td>3</td>\n",
       "      <td>1</td>\n",
       "      <td>27.0</td>\n",
       "      <td>0</td>\n",
       "      <td>0</td>\n",
       "      <td>8.6625</td>\n",
       "      <td>1</td>\n",
       "      <td>0</td>\n",
       "      <td>0</td>\n",
       "      <td>0</td>\n",
       "      <td>0</td>\n",
       "      <td>0</td>\n",
       "      <td>0</td>\n",
       "      <td>0</td>\n",
       "      <td>0</td>\n",
       "      <td>0</td>\n",
       "      <td>1</td>\n",
       "      <td>0</td>\n",
       "      <td>0</td>\n",
       "    </tr>\n",
       "    <tr>\n",
       "      <th>4</th>\n",
       "      <td>3</td>\n",
       "      <td>0</td>\n",
       "      <td>22.0</td>\n",
       "      <td>1</td>\n",
       "      <td>1</td>\n",
       "      <td>12.2875</td>\n",
       "      <td>1</td>\n",
       "      <td>0</td>\n",
       "      <td>0</td>\n",
       "      <td>0</td>\n",
       "      <td>0</td>\n",
       "      <td>0</td>\n",
       "      <td>0</td>\n",
       "      <td>0</td>\n",
       "      <td>0</td>\n",
       "      <td>0</td>\n",
       "      <td>1</td>\n",
       "      <td>0</td>\n",
       "      <td>0</td>\n",
       "    </tr>\n",
       "  </tbody>\n",
       "</table>\n",
       "</div>"
      ],
      "text/plain": [
       "       Pclass  Sex   Age  SibSp  Parch     Fare  Cabin_  Cabin_A  Cabin_B  \\\n",
       "index                                                                       \n",
       "0           3    1  34.5      0      0   7.8292       1        0        0   \n",
       "1           3    0  47.0      1      0   7.0000       1        0        0   \n",
       "2           2    1  62.0      0      0   9.6875       1        0        0   \n",
       "3           3    1  27.0      0      0   8.6625       1        0        0   \n",
       "4           3    0  22.0      1      1  12.2875       1        0        0   \n",
       "\n",
       "       Cabin_C  Cabin_D  Cabin_E  Cabin_F  Cabin_G  Embarked_C  Embarked_Q  \\\n",
       "index                                                                        \n",
       "0            0        0        0        0        0           0           1   \n",
       "1            0        0        0        0        0           0           0   \n",
       "2            0        0        0        0        0           0           1   \n",
       "3            0        0        0        0        0           0           0   \n",
       "4            0        0        0        0        0           0           0   \n",
       "\n",
       "       Embarked_S  Cabin_T  Embarked_  \n",
       "index                                  \n",
       "0               0        0          0  \n",
       "1               1        0          0  \n",
       "2               0        0          0  \n",
       "3               1        0          0  \n",
       "4               1        0          0  "
      ]
     },
     "execution_count": 3,
     "metadata": {},
     "output_type": "execute_result"
    }
   ],
   "source": [
    "df_test.head()"
   ]
  },
  {
   "cell_type": "code",
   "execution_count": 4,
   "id": "c16b8c22",
   "metadata": {},
   "outputs": [],
   "source": [
    "\n",
    "X = df_train.drop('Survived',axis=1)\n",
    "y = df_train['Survived']\n",
    "X_test = df_test"
   ]
  },
  {
   "cell_type": "code",
   "execution_count": 5,
   "id": "5d76a8fc",
   "metadata": {},
   "outputs": [
    {
     "name": "stdout",
     "output_type": "stream",
     "text": [
      "(891, 19)\n",
      "(417, 19)\n",
      "(891,)\n"
     ]
    }
   ],
   "source": [
    "print(X.shape)\n",
    "print(X_test.shape)\n",
    "print(y.shape)\n"
   ]
  },
  {
   "cell_type": "code",
   "execution_count": 6,
   "id": "a76aa24d",
   "metadata": {},
   "outputs": [],
   "source": [
    "def normalize_minmax(X_train, X_test):\n",
    "    sc = MinMaxScaler().fit(X_train)\n",
    "    return sc.transform(X_train), sc.transform(X_test)\n",
    "\n",
    "def normalize_std(X_train, X_test, fcols=None):\n",
    "    sc = StandardScaler().fit(X_train)\n",
    "    return sc.transform(X_train), sc.transform(X_test)"
   ]
  },
  {
   "cell_type": "code",
   "execution_count": 7,
   "id": "aa587409",
   "metadata": {},
   "outputs": [
    {
     "name": "stderr",
     "output_type": "stream",
     "text": [
      "C:\\Users\\paulj\\anaconda3\\lib\\site-packages\\sklearn\\base.py:493: FutureWarning: The feature names should match those that were passed during fit. Starting version 1.2, an error will be raised.\n",
      "Feature names must be in the same order as they were in fit.\n",
      "\n",
      "  warnings.warn(message, FutureWarning)\n"
     ]
    }
   ],
   "source": [
    "X_min_max, X_test_min_max =  normalize_minmax(X, X_test)"
   ]
  },
  {
   "cell_type": "code",
   "execution_count": 8,
   "id": "5515fd6a",
   "metadata": {},
   "outputs": [
    {
     "name": "stderr",
     "output_type": "stream",
     "text": [
      "C:\\Users\\paulj\\anaconda3\\lib\\site-packages\\sklearn\\base.py:493: FutureWarning: The feature names should match those that were passed during fit. Starting version 1.2, an error will be raised.\n",
      "Feature names must be in the same order as they were in fit.\n",
      "\n",
      "  warnings.warn(message, FutureWarning)\n"
     ]
    }
   ],
   "source": [
    "X_std, X_test_std =  normalize_std(X, X_test)"
   ]
  },
  {
   "cell_type": "markdown",
   "id": "63168cd3",
   "metadata": {},
   "source": [
    "# Machine Learning - 1er essais"
   ]
  },
  {
   "cell_type": "markdown",
   "id": "42f86b02",
   "metadata": {},
   "source": [
    "## Régression logistique"
   ]
  },
  {
   "cell_type": "code",
   "execution_count": 18,
   "id": "a71cf77f",
   "metadata": {},
   "outputs": [
    {
     "name": "stdout",
     "output_type": "stream",
     "text": [
      "f1 : 0.7235209671653874\n"
     ]
    },
    {
     "name": "stderr",
     "output_type": "stream",
     "text": [
      "[Parallel(n_jobs=5)]: Using backend LokyBackend with 5 concurrent workers.\n",
      "[Parallel(n_jobs=5)]: Done   2 out of   5 | elapsed:    0.0s remaining:    0.0s\n",
      "[Parallel(n_jobs=5)]: Done   5 out of   5 | elapsed:    0.0s remaining:    0.0s\n",
      "[Parallel(n_jobs=5)]: Done   5 out of   5 | elapsed:    0.0s finished\n"
     ]
    }
   ],
   "source": [
    "from sklearn.linear_model import LogisticRegression\n",
    "clf = LogisticRegression()\n",
    "cv = cross_validate(clf, X_min_max, y, scoring=['f1'], \n",
    "                                     cv=5, n_jobs=5, verbose=2)\n",
    "print(f\"f1 : {cv['test_f1'].mean()}\")"
   ]
  },
  {
   "cell_type": "markdown",
   "id": "f2c5e85d",
   "metadata": {},
   "source": [
    "## Random forest"
   ]
  },
  {
   "cell_type": "code",
   "execution_count": 11,
   "id": "f92feae8",
   "metadata": {},
   "outputs": [
    {
     "name": "stderr",
     "output_type": "stream",
     "text": [
      "[Parallel(n_jobs=5)]: Using backend LokyBackend with 5 concurrent workers.\n",
      "[Parallel(n_jobs=5)]: Done   2 out of   5 | elapsed:    4.0s remaining:    6.0s\n"
     ]
    },
    {
     "name": "stdout",
     "output_type": "stream",
     "text": [
      "f1 : 0.7425264698609226\n"
     ]
    },
    {
     "name": "stderr",
     "output_type": "stream",
     "text": [
      "[Parallel(n_jobs=5)]: Done   5 out of   5 | elapsed:    4.4s remaining:    0.0s\n",
      "[Parallel(n_jobs=5)]: Done   5 out of   5 | elapsed:    4.4s finished\n"
     ]
    }
   ],
   "source": [
    "from sklearn.ensemble import RandomForestClassifier\n",
    "clf = RandomForestClassifier()\n",
    "cv = cross_validate(clf, X_std, y, scoring=['f1'], \n",
    "                                     cv=5, n_jobs=5, verbose=2)\n",
    "print(f\"f1 : {cv['test_f1'].mean()}\")\n",
    "\n",
    "\n"
   ]
  },
  {
   "cell_type": "markdown",
   "id": "c11c7f8a",
   "metadata": {},
   "source": [
    "## SVM"
   ]
  },
  {
   "cell_type": "code",
   "execution_count": 35,
   "id": "9e5b4f60",
   "metadata": {},
   "outputs": [
    {
     "name": "stderr",
     "output_type": "stream",
     "text": [
      "[Parallel(n_jobs=5)]: Using backend LokyBackend with 5 concurrent workers.\n",
      "[Parallel(n_jobs=5)]: Done   2 out of   5 | elapsed:    3.3s remaining:    4.9s\n"
     ]
    },
    {
     "name": "stdout",
     "output_type": "stream",
     "text": [
      "f1 : 0.6985133897487481\n"
     ]
    },
    {
     "name": "stderr",
     "output_type": "stream",
     "text": [
      "[Parallel(n_jobs=5)]: Done   5 out of   5 | elapsed:    3.6s remaining:    0.0s\n",
      "[Parallel(n_jobs=5)]: Done   5 out of   5 | elapsed:    3.6s finished\n"
     ]
    }
   ],
   "source": [
    "from sklearn import svm\n",
    "clf = svm.SVC()\n",
    "cv = cross_validate(clf, X_min_max, y, scoring=['f1'], \n",
    "                                     cv=5, n_jobs=5, verbose=2)\n",
    "print(f\"f1 : {cv['test_f1'].mean()}\")\n"
   ]
  },
  {
   "cell_type": "markdown",
   "id": "1e25e6ff",
   "metadata": {},
   "source": [
    "## KNN"
   ]
  },
  {
   "cell_type": "code",
   "execution_count": 36,
   "id": "afe3ada9",
   "metadata": {},
   "outputs": [
    {
     "name": "stdout",
     "output_type": "stream",
     "text": [
      "f1 : 0.7136895881843978\n"
     ]
    },
    {
     "name": "stderr",
     "output_type": "stream",
     "text": [
      "[Parallel(n_jobs=5)]: Using backend LokyBackend with 5 concurrent workers.\n",
      "[Parallel(n_jobs=5)]: Done   2 out of   5 | elapsed:    0.0s remaining:    0.0s\n",
      "[Parallel(n_jobs=5)]: Done   5 out of   5 | elapsed:    0.0s remaining:    0.0s\n",
      "[Parallel(n_jobs=5)]: Done   5 out of   5 | elapsed:    0.0s finished\n"
     ]
    }
   ],
   "source": [
    "from sklearn.neighbors import KNeighborsClassifier\n",
    "clf = KNeighborsClassifier(n_neighbors=3)\n",
    "cv = cross_validate(clf, X_min_max, y, scoring=['f1'], \n",
    "                                     cv=5, n_jobs=5, verbose=2)\n",
    "print(f\"f1 : {cv['test_f1'].mean()}\")"
   ]
  },
  {
   "cell_type": "markdown",
   "id": "4ad09104",
   "metadata": {},
   "source": [
    "## XGBoost"
   ]
  },
  {
   "cell_type": "code",
   "execution_count": 38,
   "id": "39aebece",
   "metadata": {},
   "outputs": [
    {
     "name": "stderr",
     "output_type": "stream",
     "text": [
      "[Parallel(n_jobs=5)]: Using backend LokyBackend with 5 concurrent workers.\n",
      "[Parallel(n_jobs=5)]: Done   2 out of   5 | elapsed:    3.4s remaining:    5.2s\n"
     ]
    },
    {
     "name": "stdout",
     "output_type": "stream",
     "text": [
      "f1 : 0.757576926296843\n"
     ]
    },
    {
     "name": "stderr",
     "output_type": "stream",
     "text": [
      "[Parallel(n_jobs=5)]: Done   5 out of   5 | elapsed:    3.8s remaining:    0.0s\n",
      "[Parallel(n_jobs=5)]: Done   5 out of   5 | elapsed:    3.8s finished\n"
     ]
    }
   ],
   "source": [
    "import xgboost as xgb\n",
    "clf = xgb.XGBClassifier()\n",
    "cv = cross_validate(clf, X_min_max, y, scoring=['f1'], \n",
    "                                     cv=5, n_jobs=5, verbose=2)\n",
    "print(f\"f1 : {cv['test_f1'].mean()}\")"
   ]
  },
  {
   "cell_type": "code",
   "execution_count": null,
   "id": "fa1f100f",
   "metadata": {},
   "outputs": [],
   "source": []
  },
  {
   "cell_type": "code",
   "execution_count": null,
   "id": "01a58c4e",
   "metadata": {},
   "outputs": [],
   "source": []
  },
  {
   "cell_type": "markdown",
   "id": "d0d94bb8",
   "metadata": {},
   "source": [
    "# Machine Learning - affinage"
   ]
  },
  {
   "cell_type": "code",
   "execution_count": 12,
   "id": "ceb52e73",
   "metadata": {},
   "outputs": [
    {
     "name": "stdout",
     "output_type": "stream",
     "text": [
      "    mean_fit_time  std_fit_time  mean_score_time  std_score_time  \\\n",
      "0        0.165465      0.005659         0.012003        0.000199   \n",
      "1        0.323392      0.004788         0.021626        0.000595   \n",
      "2        0.488375      0.006205         0.031737        0.000304   \n",
      "3        0.157529      0.002141         0.011210        0.000243   \n",
      "4        0.313274      0.002359         0.021229        0.000853   \n",
      "5        0.472477      0.005712         0.031162        0.000489   \n",
      "6        0.150089      0.002118         0.010715        0.000242   \n",
      "7        0.295920      0.003325         0.019933        0.000569   \n",
      "8        0.444316      0.005068         0.029562        0.000506   \n",
      "9        0.151989      0.002655         0.010897        0.000302   \n",
      "10       0.295715      0.002813         0.019939        0.000578   \n",
      "11       0.444515      0.005673         0.029458        0.000394   \n",
      "\n",
      "   param_min_samples_leaf param_min_samples_split param_n_estimators  \\\n",
      "0                       1                       5                100   \n",
      "1                       1                       5                200   \n",
      "2                       1                       5                300   \n",
      "3                       1                      10                100   \n",
      "4                       1                      10                200   \n",
      "5                       1                      10                300   \n",
      "6                       5                       5                100   \n",
      "7                       5                       5                200   \n",
      "8                       5                       5                300   \n",
      "9                       5                      10                100   \n",
      "10                      5                      10                200   \n",
      "11                      5                      10                300   \n",
      "\n",
      "   param_oob_score                                             params  \\\n",
      "0             True  {'min_samples_leaf': 1, 'min_samples_split': 5...   \n",
      "1             True  {'min_samples_leaf': 1, 'min_samples_split': 5...   \n",
      "2             True  {'min_samples_leaf': 1, 'min_samples_split': 5...   \n",
      "3             True  {'min_samples_leaf': 1, 'min_samples_split': 1...   \n",
      "4             True  {'min_samples_leaf': 1, 'min_samples_split': 1...   \n",
      "5             True  {'min_samples_leaf': 1, 'min_samples_split': 1...   \n",
      "6             True  {'min_samples_leaf': 5, 'min_samples_split': 5...   \n",
      "7             True  {'min_samples_leaf': 5, 'min_samples_split': 5...   \n",
      "8             True  {'min_samples_leaf': 5, 'min_samples_split': 5...   \n",
      "9             True  {'min_samples_leaf': 5, 'min_samples_split': 1...   \n",
      "10            True  {'min_samples_leaf': 5, 'min_samples_split': 1...   \n",
      "11            True  {'min_samples_leaf': 5, 'min_samples_split': 1...   \n",
      "\n",
      "    split0_test_score  split1_test_score  split2_test_score  \\\n",
      "0            0.804469           0.797753           0.870787   \n",
      "1            0.810056           0.780899           0.870787   \n",
      "2            0.798883           0.803371           0.848315   \n",
      "3            0.810056           0.803371           0.859551   \n",
      "4            0.810056           0.797753           0.859551   \n",
      "5            0.787709           0.803371           0.870787   \n",
      "6            0.782123           0.820225           0.870787   \n",
      "7            0.787709           0.808989           0.865169   \n",
      "8            0.804469           0.820225           0.865169   \n",
      "9            0.787709           0.814607           0.865169   \n",
      "10           0.798883           0.814607           0.859551   \n",
      "11           0.798883           0.814607           0.859551   \n",
      "\n",
      "    split3_test_score  split4_test_score  mean_test_score  std_test_score  \\\n",
      "0            0.803371           0.853933         0.826062        0.030198   \n",
      "1            0.808989           0.865169         0.827180        0.034959   \n",
      "2            0.803371           0.848315         0.820451        0.022810   \n",
      "3            0.797753           0.865169         0.827180        0.029042   \n",
      "4            0.803371           0.842697         0.822685        0.024140   \n",
      "5            0.808989           0.853933         0.824958        0.031775   \n",
      "6            0.797753           0.837079         0.821593        0.030945   \n",
      "7            0.803371           0.842697         0.821587        0.028225   \n",
      "8            0.803371           0.853933         0.829433        0.025552   \n",
      "9            0.803371           0.865169         0.827205        0.032153   \n",
      "10           0.814607           0.865169         0.830563        0.026648   \n",
      "11           0.803371           0.853933         0.826069        0.025625   \n",
      "\n",
      "    rank_test_score  \n",
      "0                 7  \n",
      "1                 4  \n",
      "2                12  \n",
      "3                 5  \n",
      "4                 9  \n",
      "5                 8  \n",
      "6                10  \n",
      "7                11  \n",
      "8                 2  \n",
      "9                 3  \n",
      "10                1  \n",
      "11                6  \n",
      "Best Parameters: {'min_samples_leaf': 5, 'min_samples_split': 10, 'n_estimators': 200, 'oob_score': True}\n"
     ]
    }
   ],
   "source": [
    "from sklearn.model_selection import GridSearchCV\n",
    "clf = RandomForestClassifier()\n",
    "\n",
    "parametres = {\n",
    "    'n_estimators': [100,200,300],\n",
    "    'min_samples_split': [5,10],\n",
    "    'min_samples_leaf': [1,5],\n",
    "    'oob_score': [True],   \n",
    "\n",
    "}\n",
    "\n",
    "grid_rg = GridSearchCV(estimator=clf,param_grid = parametres,cv=5)\n",
    "grille = grid_rg.fit(X, y)\n",
    "print(pd.DataFrame.from_dict(grille.cv_results_))\n",
    "print(f'Best Parameters: {grid_rg.best_params_}')\n"
   ]
  },
  {
   "cell_type": "code",
   "execution_count": 16,
   "id": "210d4be0",
   "metadata": {},
   "outputs": [
    {
     "name": "stdout",
     "output_type": "stream",
     "text": [
      "     mean_fit_time  std_fit_time  mean_score_time  std_score_time  \\\n",
      "0         0.179565      0.015176         0.012689        0.001206   \n",
      "1         0.160190      0.013841         0.013803        0.001387   \n",
      "2         0.353151      0.029712         0.022321        0.000958   \n",
      "3         0.270220      0.004058         0.022023        0.000678   \n",
      "4         0.512672      0.011554         0.034728        0.005738   \n",
      "..             ...           ...              ...             ...   \n",
      "175       0.916205      0.004588         0.075898        0.001171   \n",
      "176       1.323926      0.024581         0.082627        0.001486   \n",
      "177       1.026526      0.005673         0.083516        0.001993   \n",
      "178       1.449324      0.005274         0.092840        0.001375   \n",
      "179       1.138214      0.011671         0.103274        0.022148   \n",
      "\n",
      "    param_min_samples_leaf param_min_samples_split param_n_estimators  \\\n",
      "0                        1                       2                100   \n",
      "1                        1                       2                100   \n",
      "2                        1                       2                200   \n",
      "3                        1                       2                200   \n",
      "4                        1                       2                300   \n",
      "..                     ...                     ...                ...   \n",
      "175                     10                      10                800   \n",
      "176                     10                      10                900   \n",
      "177                     10                      10                900   \n",
      "178                     10                      10               1000   \n",
      "179                     10                      10               1000   \n",
      "\n",
      "    param_oob_score                                             params  \\\n",
      "0              True  {'min_samples_leaf': 1, 'min_samples_split': 2...   \n",
      "1             False  {'min_samples_leaf': 1, 'min_samples_split': 2...   \n",
      "2              True  {'min_samples_leaf': 1, 'min_samples_split': 2...   \n",
      "3             False  {'min_samples_leaf': 1, 'min_samples_split': 2...   \n",
      "4              True  {'min_samples_leaf': 1, 'min_samples_split': 2...   \n",
      "..              ...                                                ...   \n",
      "175           False  {'min_samples_leaf': 10, 'min_samples_split': ...   \n",
      "176            True  {'min_samples_leaf': 10, 'min_samples_split': ...   \n",
      "177           False  {'min_samples_leaf': 10, 'min_samples_split': ...   \n",
      "178            True  {'min_samples_leaf': 10, 'min_samples_split': ...   \n",
      "179           False  {'min_samples_leaf': 10, 'min_samples_split': ...   \n",
      "\n",
      "     split0_test_score  split1_test_score  split2_test_score  \\\n",
      "0             0.804469           0.808989           0.814607   \n",
      "1             0.787709           0.786517           0.831461   \n",
      "2             0.787709           0.808989           0.831461   \n",
      "3             0.787709           0.797753           0.831461   \n",
      "4             0.793296           0.792135           0.831461   \n",
      "..                 ...                ...                ...   \n",
      "175           0.798883           0.808989           0.865169   \n",
      "176           0.787709           0.808989           0.865169   \n",
      "177           0.793296           0.808989           0.865169   \n",
      "178           0.798883           0.820225           0.870787   \n",
      "179           0.782123           0.808989           0.865169   \n",
      "\n",
      "     split3_test_score  split4_test_score  mean_test_score  std_test_score  \\\n",
      "0             0.780899           0.859551         0.813703        0.025638   \n",
      "1             0.780899           0.853933         0.808104        0.029216   \n",
      "2             0.769663           0.853933         0.810351        0.030050   \n",
      "3             0.769663           0.859551         0.809227        0.032208   \n",
      "4             0.769663           0.853933         0.808097        0.030324   \n",
      "..                 ...                ...              ...             ...   \n",
      "175           0.803371           0.825843         0.820451        0.024154   \n",
      "176           0.797753           0.831461         0.818216        0.027621   \n",
      "177           0.786517           0.825843         0.815963        0.028101   \n",
      "178           0.792135           0.837079         0.823821        0.028356   \n",
      "179           0.792135           0.820225         0.813728        0.028900   \n",
      "\n",
      "     rank_test_score  \n",
      "0                158  \n",
      "1                166  \n",
      "2                162  \n",
      "3                164  \n",
      "4                169  \n",
      "..               ...  \n",
      "175              111  \n",
      "176              133  \n",
      "177              148  \n",
      "178               63  \n",
      "179              156  \n",
      "\n",
      "[180 rows x 17 columns]\n",
      "Best Parameters: {'min_samples_leaf': 1, 'min_samples_split': 5, 'n_estimators': 400, 'oob_score': True}\n"
     ]
    }
   ],
   "source": [
    "from sklearn.model_selection import GridSearchCV\n",
    "clf = RandomForestClassifier()\n",
    "\n",
    "parametres = {\n",
    "    'n_estimators': [100,200,300,400,500,600,700,800,900,1000],\n",
    "    'min_samples_split': [2,5,10],\n",
    "    'min_samples_leaf': [1,5,10]\n",
    "}\n",
    "\n",
    "grid_rg = GridSearchCV(estimator=clf,param_grid = parametres,cv=5)\n",
    "grille = grid_rg.fit(X, y)\n",
    "print(pd.DataFrame.from_dict(grille.cv_results_))\n",
    "print(f'Best Parameters: {grid_rg.best_params_}')"
   ]
  },
  {
   "cell_type": "code",
   "execution_count": 17,
   "id": "fa37847f",
   "metadata": {},
   "outputs": [
    {
     "name": "stderr",
     "output_type": "stream",
     "text": [
      "[Parallel(n_jobs=5)]: Using backend LokyBackend with 5 concurrent workers.\n",
      "[Parallel(n_jobs=5)]: Done   2 out of   5 | elapsed:    4.1s remaining:    6.3s\n"
     ]
    },
    {
     "name": "stdout",
     "output_type": "stream",
     "text": [
      "f1 : 0.7635827420593279\n"
     ]
    },
    {
     "name": "stderr",
     "output_type": "stream",
     "text": [
      "[Parallel(n_jobs=5)]: Done   5 out of   5 | elapsed:    4.6s remaining:    0.0s\n",
      "[Parallel(n_jobs=5)]: Done   5 out of   5 | elapsed:    4.6s finished\n"
     ]
    }
   ],
   "source": [
    "from sklearn.ensemble import RandomForestClassifier\n",
    "\n",
    "clf = RandomForestClassifier(#criterion='gini', \n",
    "                             n_estimators=400,\n",
    "                             min_samples_split=5,\n",
    "                             min_samples_leaf=1,\n",
    "                             #max_features='auto',\n",
    "                             #oob_score=True,\n",
    "                             #random_state=1,\n",
    "                             #n_jobs=-1\n",
    "                             )\n",
    "\n",
    "cv = cross_validate(clf, X, y, scoring=['f1'], \n",
    "                                     cv=5, n_jobs=5, verbose=2)\n",
    "print(f\"f1 : {cv['test_f1'].mean()}\")"
   ]
  },
  {
   "cell_type": "code",
   "execution_count": null,
   "id": "7c0c745b",
   "metadata": {},
   "outputs": [],
   "source": [
    "# provisoire, à retravailler"
   ]
  }
 ],
 "metadata": {
  "kernelspec": {
   "display_name": "Python 3 (ipykernel)",
   "language": "python",
   "name": "python3"
  },
  "language_info": {
   "codemirror_mode": {
    "name": "ipython",
    "version": 3
   },
   "file_extension": ".py",
   "mimetype": "text/x-python",
   "name": "python",
   "nbconvert_exporter": "python",
   "pygments_lexer": "ipython3",
   "version": "3.9.12"
  }
 },
 "nbformat": 4,
 "nbformat_minor": 5
}
